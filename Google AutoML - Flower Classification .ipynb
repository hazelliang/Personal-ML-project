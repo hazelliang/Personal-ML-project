{
  "nbformat": 4,
  "nbformat_minor": 0,
  "metadata": {
    "colab": {
      "name": "HW 8 - Hazel.ipynb",
      "version": "0.3.2",
      "provenance": [],
      "collapsed_sections": [],
      "include_colab_link": true
    },
    "kernelspec": {
      "name": "python3",
      "display_name": "Python 3"
    }
  },
  "cells": [
    {
      "cell_type": "markdown",
      "metadata": {
        "id": "view-in-github",
        "colab_type": "text"
      },
      "source": [
        "<a href=\"https://colab.research.google.com/github/hazelliang/Python-Machine-Learning-Project/blob/master/Google%20AutoML%20-%20Flower%20Classification%20.ipynb\" target=\"_parent\"><img src=\"https://colab.research.google.com/assets/colab-badge.svg\" alt=\"Open In Colab\"/></a>"
      ]
    },
    {
      "metadata": {
        "id": "b3X_Szb7BXbX",
        "colab_type": "text"
      },
      "cell_type": "markdown",
      "source": [
        "Dataset source: https://www.kaggle.com/alxmamaev/flowers-recognition"
      ]
    },
    {
      "metadata": {
        "id": "MPMy8bm07qK2",
        "colab_type": "text"
      },
      "cell_type": "markdown",
      "source": [
        "### Ingest"
      ]
    },
    {
      "metadata": {
        "id": "5ataqjrl-qJw",
        "colab_type": "code",
        "outputId": "5f01d166-890a-40dd-cca9-c006460ceaa4",
        "colab": {
          "base_uri": "https://localhost:8080/",
          "height": 34
        }
      },
      "cell_type": "code",
      "source": [
        "from google.colab import drive\n",
        "drive.mount('/content/gdrive', force_remount=True)"
      ],
      "execution_count": 0,
      "outputs": [
        {
          "output_type": "stream",
          "text": [
            "Mounted at /content/gdrive\n"
          ],
          "name": "stdout"
        }
      ]
    },
    {
      "metadata": {
        "id": "coV_JCmU_twy",
        "colab_type": "code",
        "outputId": "72cd758b-b972-4943-a6f7-b1a8a0359667",
        "colab": {
          "base_uri": "https://localhost:8080/",
          "height": 85
        }
      },
      "cell_type": "code",
      "source": [
        "import os;os.listdir(\"/content/gdrive/My Drive/BAX_452/HW_8\")"
      ],
      "execution_count": 0,
      "outputs": [
        {
          "output_type": "execute_result",
          "data": {
            "text/plain": [
              "['HW 8 - Hazel.ipynb',\n",
              " 'Flower.json',\n",
              " '33838292353_8b143f7980_n.jpg',\n",
              " '5180859236_60aa57ff9b_n.jpg']"
            ]
          },
          "metadata": {
            "tags": []
          },
          "execution_count": 8
        }
      ]
    },
    {
      "metadata": {
        "id": "xQSdUZdX_t9I",
        "colab_type": "code",
        "outputId": "da558c5b-083f-4605-c6a2-e5ff29465b4e",
        "colab": {
          "base_uri": "https://localhost:8080/",
          "height": 163
        }
      },
      "cell_type": "code",
      "source": [
        "!export GOOGLE_APPLICATION_CREDENTIALS=\"/content/gdrive/My\\ Drive/BAX_452/HW_8/Flower.json\"\n",
        "!gcloud auth activate-service-account --key-file /content/gdrive/My\\ Drive/BAX_452/HW_8/Flower.json\n",
        "!pip install --upgrade -q google-cloud-vision"
      ],
      "execution_count": 0,
      "outputs": [
        {
          "output_type": "stream",
          "text": [
            "Activated service account credentials for: [hzliang-ucdavis-edu@hw-8-flower.iam.gserviceaccount.com]\n"
          ],
          "name": "stdout"
        }
      ]
    },
    {
      "metadata": {
        "id": "XCBQQas47uZ5",
        "colab_type": "text"
      },
      "cell_type": "markdown",
      "source": [
        "### AutoML "
      ]
    },
    {
      "metadata": {
        "id": "xMkjL6FrAWsg",
        "colab_type": "text"
      },
      "cell_type": "markdown",
      "source": [
        "![alt text](https://i.postimg.cc/637gYRNX/Screen-Shot-2019-02-28-at-1-21-39-PM.png)"
      ]
    },
    {
      "metadata": {
        "id": "GI-7gJIUAvm1",
        "colab_type": "text"
      },
      "cell_type": "markdown",
      "source": [
        "![alt text](https://i.postimg.cc/Bv7RTpkp/Screen-Shot-2019-02-28-at-1-21-57-PM.png)"
      ]
    },
    {
      "metadata": {
        "id": "UtomPM8P7k7J",
        "colab_type": "text"
      },
      "cell_type": "markdown",
      "source": [
        "### Prediction with Vision"
      ]
    },
    {
      "metadata": {
        "id": "5TAWH8oXSNMQ",
        "colab_type": "code",
        "outputId": "af78ce00-6b3e-4cba-f93f-1422610ef837",
        "colab": {
          "base_uri": "https://localhost:8080/",
          "height": 204
        }
      },
      "cell_type": "code",
      "source": [
        "import io\n",
        "import os\n",
        "\n",
        "os.environ[\"GOOGLE_APPLICATION_CREDENTIALS\"]=\"/content/gdrive/My Drive/BAX_452/HW_8/Flower.json\"\n",
        "\n",
        "# Imports the Google Cloud client library\n",
        "from google.cloud import vision\n",
        "from google.cloud.vision import types\n",
        "\n",
        "# Instantiates a client\n",
        "client = vision.ImageAnnotatorClient()\n",
        "\n",
        "# The name of the image file to annotate\n",
        "file_name = '/content/gdrive/My Drive/BAX_452/HW_8/33838292353_8b143f7980_n.jpg'\n",
        "\n",
        "# Loads the image into memory\n",
        "with io.open(file_name, 'rb') as image_file:\n",
        "    content = image_file.read()\n",
        "\n",
        "image = types.Image(content=content)\n",
        "\n",
        "# Performs label detection on the image file\n",
        "response = client.label_detection(image=image)\n",
        "labels = response.label_annotations\n",
        "\n",
        "print('Labels:')\n",
        "for label in labels:\n",
        "    print(label.description)"
      ],
      "execution_count": 0,
      "outputs": [
        {
          "output_type": "stream",
          "text": [
            "Labels:\n",
            "Flower\n",
            "Flowering plant\n",
            "Plant\n",
            "Oxeye daisy\n",
            "Petal\n",
            "Daisy\n",
            "chamomile\n",
            "mayweed\n",
            "camomile\n",
            "Grass\n"
          ],
          "name": "stdout"
        }
      ]
    },
    {
      "metadata": {
        "id": "IBqPcl5U2jnl",
        "colab_type": "code",
        "outputId": "ef9ef463-e044-470e-cf05-ce5c25cfe11a",
        "colab": {
          "base_uri": "https://localhost:8080/",
          "height": 204
        }
      },
      "cell_type": "code",
      "source": [
        "import io\n",
        "import os\n",
        "\n",
        "os.environ[\"GOOGLE_APPLICATION_CREDENTIALS\"]=\"/content/gdrive/My Drive/BAX_452/HW_8/Flower.json\"\n",
        "\n",
        "# Imports the Google Cloud client library\n",
        "from google.cloud import vision\n",
        "from google.cloud.vision import types\n",
        "\n",
        "# Instantiates a client\n",
        "client = vision.ImageAnnotatorClient()\n",
        "\n",
        "# The name of the image file to annotate\n",
        "file_name = '/content/gdrive/My Drive/BAX_452/HW_8/5180859236_60aa57ff9b_n.jpg'\n",
        "\n",
        "# Loads the image into memory\n",
        "with io.open(file_name, 'rb') as image_file:\n",
        "    content = image_file.read()\n",
        "\n",
        "image = types.Image(content=content)\n",
        "\n",
        "# Performs label detection on the image file\n",
        "response = client.label_detection(image=image)\n",
        "labels = response.label_annotations\n",
        "\n",
        "print('Labels:')\n",
        "for label in labels:\n",
        "    print(label.description)"
      ],
      "execution_count": 0,
      "outputs": [
        {
          "output_type": "stream",
          "text": [
            "Labels:\n",
            "Flower\n",
            "Sunflower\n",
            "Flowering plant\n",
            "Yellow\n",
            "Petal\n",
            "sunflower\n",
            "Pollen\n",
            "Plant\n",
            "Sunflower seed\n",
            "Wildflower\n"
          ],
          "name": "stdout"
        }
      ]
    },
    {
      "metadata": {
        "id": "Nhi3mPNeQR4W",
        "colab_type": "text"
      },
      "cell_type": "markdown",
      "source": [
        "### Conclusion"
      ]
    },
    {
      "metadata": {
        "id": "qcC0cjp3QUws",
        "colab_type": "text"
      },
      "cell_type": "markdown",
      "source": [
        "* AutoML Vision is a great tool to train models from labeled images and evaluate their performance. We can choose different score thresholds based on different user case. \n",
        "\n",
        "* Vision API can leverage a human labeling service for datasets with unlabeled images. We predicted two images from flower dataset with Vision API and successfully got the labels for the images.\n"
      ]
    }
  ]
}